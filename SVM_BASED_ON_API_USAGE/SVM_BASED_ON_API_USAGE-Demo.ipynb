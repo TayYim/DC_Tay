{
 "cells": [
  {
   "cell_type": "code",
   "execution_count": null,
   "metadata": {},
   "outputs": [],
   "source": [
    "################# This notebook only process train data\n",
    "################# Author: Tay\n",
    "################# Date: 4.16"
   ]
  },
  {
   "cell_type": "code",
   "execution_count": 1,
   "metadata": {},
   "outputs": [],
   "source": [
    "import pandas as pd\n",
    "import numpy as np\n",
    "import matplotlib.pyplot as plt\n",
    "%matplotlib inline"
   ]
  },
  {
   "cell_type": "code",
   "execution_count": 2,
   "metadata": {},
   "outputs": [
    {
     "name": "stdout",
     "output_type": "stream",
     "text": [
      "(200, 95)\n",
      "(400, 95)\n",
      "(600, 95)\n"
     ]
    },
    {
     "data": {
      "text/html": [
       "<div>\n",
       "<style scoped>\n",
       "    .dataframe tbody tr th:only-of-type {\n",
       "        vertical-align: middle;\n",
       "    }\n",
       "\n",
       "    .dataframe tbody tr th {\n",
       "        vertical-align: top;\n",
       "    }\n",
       "\n",
       "    .dataframe thead th {\n",
       "        text-align: right;\n",
       "    }\n",
       "</style>\n",
       "<table border=\"1\" class=\"dataframe\">\n",
       "  <thead>\n",
       "    <tr style=\"text-align: right;\">\n",
       "      <th></th>\n",
       "      <th>HttpOpenRequestA</th>\n",
       "      <th>InternetCrackUrlA</th>\n",
       "      <th>NtSetContextThread</th>\n",
       "      <th>AnalyzeStart</th>\n",
       "      <th>KeBugCheck2</th>\n",
       "      <th>NtWriteVirtualMemory</th>\n",
       "      <th>NtWriteFile</th>\n",
       "      <th>DeleteFileW</th>\n",
       "      <th>gethostbyname</th>\n",
       "      <th>Fake_SetFileCreationTime</th>\n",
       "      <th>...</th>\n",
       "      <th>Fake_BeCreatedEx</th>\n",
       "      <th>NtSuspendProcess</th>\n",
       "      <th>recvfrom</th>\n",
       "      <th>WSASend</th>\n",
       "      <th>TryToAnalyze</th>\n",
       "      <th>TooManyBehavior</th>\n",
       "      <th>Fake_WritePEFile</th>\n",
       "      <th>NtDeleteFile</th>\n",
       "      <th>label</th>\n",
       "      <th>api_name</th>\n",
       "    </tr>\n",
       "  </thead>\n",
       "  <tbody>\n",
       "    <tr>\n",
       "      <th>0</th>\n",
       "      <td>0</td>\n",
       "      <td>0</td>\n",
       "      <td>0</td>\n",
       "      <td>1</td>\n",
       "      <td>0</td>\n",
       "      <td>0</td>\n",
       "      <td>14</td>\n",
       "      <td>0</td>\n",
       "      <td>0</td>\n",
       "      <td>0</td>\n",
       "      <td>...</td>\n",
       "      <td>1</td>\n",
       "      <td>0</td>\n",
       "      <td>0</td>\n",
       "      <td>0</td>\n",
       "      <td>1</td>\n",
       "      <td>0</td>\n",
       "      <td>104</td>\n",
       "      <td>0</td>\n",
       "      <td>1</td>\n",
       "      <td>5ab47016fa3c91a004e33d0763afe58ff0d9a6076c8a0f...</td>\n",
       "    </tr>\n",
       "    <tr>\n",
       "      <th>1</th>\n",
       "      <td>0</td>\n",
       "      <td>0</td>\n",
       "      <td>0</td>\n",
       "      <td>1</td>\n",
       "      <td>0</td>\n",
       "      <td>0</td>\n",
       "      <td>500</td>\n",
       "      <td>286</td>\n",
       "      <td>26</td>\n",
       "      <td>0</td>\n",
       "      <td>...</td>\n",
       "      <td>249</td>\n",
       "      <td>0</td>\n",
       "      <td>0</td>\n",
       "      <td>0</td>\n",
       "      <td>341</td>\n",
       "      <td>9</td>\n",
       "      <td>32</td>\n",
       "      <td>0</td>\n",
       "      <td>1</td>\n",
       "      <td>6951a62d16bad4d309e4237e182638a90b68225f3ff072...</td>\n",
       "    </tr>\n",
       "    <tr>\n",
       "      <th>2</th>\n",
       "      <td>0</td>\n",
       "      <td>0</td>\n",
       "      <td>0</td>\n",
       "      <td>1</td>\n",
       "      <td>0</td>\n",
       "      <td>0</td>\n",
       "      <td>0</td>\n",
       "      <td>0</td>\n",
       "      <td>0</td>\n",
       "      <td>0</td>\n",
       "      <td>...</td>\n",
       "      <td>2</td>\n",
       "      <td>0</td>\n",
       "      <td>0</td>\n",
       "      <td>0</td>\n",
       "      <td>2</td>\n",
       "      <td>0</td>\n",
       "      <td>0</td>\n",
       "      <td>0</td>\n",
       "      <td>1</td>\n",
       "      <td>211b18666b734819202ed3f5078c7f66784a4f340bd858...</td>\n",
       "    </tr>\n",
       "    <tr>\n",
       "      <th>3</th>\n",
       "      <td>0</td>\n",
       "      <td>0</td>\n",
       "      <td>0</td>\n",
       "      <td>1</td>\n",
       "      <td>0</td>\n",
       "      <td>0</td>\n",
       "      <td>500</td>\n",
       "      <td>176</td>\n",
       "      <td>59</td>\n",
       "      <td>0</td>\n",
       "      <td>...</td>\n",
       "      <td>249</td>\n",
       "      <td>0</td>\n",
       "      <td>0</td>\n",
       "      <td>0</td>\n",
       "      <td>265</td>\n",
       "      <td>9</td>\n",
       "      <td>18</td>\n",
       "      <td>0</td>\n",
       "      <td>1</td>\n",
       "      <td>8ed6950689799e43e0d5910dc100b92a530ed2b561f631...</td>\n",
       "    </tr>\n",
       "    <tr>\n",
       "      <th>4</th>\n",
       "      <td>0</td>\n",
       "      <td>0</td>\n",
       "      <td>0</td>\n",
       "      <td>1</td>\n",
       "      <td>0</td>\n",
       "      <td>0</td>\n",
       "      <td>500</td>\n",
       "      <td>178</td>\n",
       "      <td>94</td>\n",
       "      <td>0</td>\n",
       "      <td>...</td>\n",
       "      <td>190</td>\n",
       "      <td>0</td>\n",
       "      <td>0</td>\n",
       "      <td>0</td>\n",
       "      <td>190</td>\n",
       "      <td>8</td>\n",
       "      <td>32</td>\n",
       "      <td>0</td>\n",
       "      <td>1</td>\n",
       "      <td>cd8673cf0373e2da6c93b590e179876e6652b61a3d5a52...</td>\n",
       "    </tr>\n",
       "  </tbody>\n",
       "</table>\n",
       "<p>5 rows × 95 columns</p>\n",
       "</div>"
      ],
      "text/plain": [
       "   HttpOpenRequestA  InternetCrackUrlA  NtSetContextThread  AnalyzeStart  \\\n",
       "0                 0                  0                   0             1   \n",
       "1                 0                  0                   0             1   \n",
       "2                 0                  0                   0             1   \n",
       "3                 0                  0                   0             1   \n",
       "4                 0                  0                   0             1   \n",
       "\n",
       "   KeBugCheck2  NtWriteVirtualMemory  NtWriteFile  DeleteFileW  gethostbyname  \\\n",
       "0            0                     0           14            0              0   \n",
       "1            0                     0          500          286             26   \n",
       "2            0                     0            0            0              0   \n",
       "3            0                     0          500          176             59   \n",
       "4            0                     0          500          178             94   \n",
       "\n",
       "   Fake_SetFileCreationTime  ...  Fake_BeCreatedEx  NtSuspendProcess  \\\n",
       "0                         0  ...                 1                 0   \n",
       "1                         0  ...               249                 0   \n",
       "2                         0  ...                 2                 0   \n",
       "3                         0  ...               249                 0   \n",
       "4                         0  ...               190                 0   \n",
       "\n",
       "   recvfrom  WSASend  TryToAnalyze  TooManyBehavior  Fake_WritePEFile  \\\n",
       "0         0        0             1                0               104   \n",
       "1         0        0           341                9                32   \n",
       "2         0        0             2                0                 0   \n",
       "3         0        0           265                9                18   \n",
       "4         0        0           190                8                32   \n",
       "\n",
       "   NtDeleteFile  label                                           api_name  \n",
       "0             0      1  5ab47016fa3c91a004e33d0763afe58ff0d9a6076c8a0f...  \n",
       "1             0      1  6951a62d16bad4d309e4237e182638a90b68225f3ff072...  \n",
       "2             0      1  211b18666b734819202ed3f5078c7f66784a4f340bd858...  \n",
       "3             0      1  8ed6950689799e43e0d5910dc100b92a530ed2b561f631...  \n",
       "4             0      1  cd8673cf0373e2da6c93b590e179876e6652b61a3d5a52...  \n",
       "\n",
       "[5 rows x 95 columns]"
      ]
     },
     "execution_count": 2,
     "metadata": {},
     "output_type": "execute_result"
    }
   ],
   "source": [
    "black_usage_data = pd.read_csv(\"black_usage.csv\")[0:200]\n",
    "print(black_usage_data.shape)\n",
    "white_usage_data = pd.read_csv(\"white_usage.csv\")[0:400]\n",
    "print(white_usage_data.shape)\n",
    "api_usage_data = pd.concat([black_usage_data,white_usage_data], ignore_index=True)\n",
    "print(api_usage_data.shape)\n",
    "api_usage_data.head()"
   ]
  },
  {
   "cell_type": "code",
   "execution_count": 3,
   "metadata": {},
   "outputs": [
    {
     "name": "stdout",
     "output_type": "stream",
     "text": [
      "(600, 93)\n",
      "(600,)\n"
     ]
    }
   ],
   "source": [
    "X = api_usage_data.drop(['api_name','label'],axis=1)\n",
    "y = api_usage_data['label']\n",
    "print(X.shape)\n",
    "print(y.shape)"
   ]
  },
  {
   "cell_type": "code",
   "execution_count": 10,
   "metadata": {},
   "outputs": [
    {
     "name": "stdout",
     "output_type": "stream",
     "text": [
      "(600, 93) (600,)\n"
     ]
    }
   ],
   "source": [
    "from sklearn.model_selection import train_test_split\n",
    "X_train, X_test, y_train, y_test = train_test_split(X, y, test_size = 0.20)"
   ]
  },
  {
   "cell_type": "code",
   "execution_count": 5,
   "metadata": {},
   "outputs": [
    {
     "data": {
      "text/plain": [
       "SVC(C=1.0, cache_size=200, class_weight=None, coef0=0.0,\n",
       "  decision_function_shape='ovr', degree=3, gamma='auto_deprecated',\n",
       "  kernel='linear', max_iter=-1, probability=False, random_state=None,\n",
       "  shrinking=True, tol=0.001, verbose=False)"
      ]
     },
     "execution_count": 5,
     "metadata": {},
     "output_type": "execute_result"
    }
   ],
   "source": [
    "from sklearn.svm import SVC\n",
    "svclassifier = SVC(kernel='linear')\n",
    "svclassifier.fit(X_train, y_train)"
   ]
  },
  {
   "cell_type": "code",
   "execution_count": 8,
   "metadata": {},
   "outputs": [
    {
     "name": "stdout",
     "output_type": "stream",
     "text": [
      "[[71  3]\n",
      " [12 34]]\n",
      "              precision    recall  f1-score   support\n",
      "\n",
      "           0       0.86      0.96      0.90        74\n",
      "           1       0.92      0.74      0.82        46\n",
      "\n",
      "   micro avg       0.88      0.88      0.88       120\n",
      "   macro avg       0.89      0.85      0.86       120\n",
      "weighted avg       0.88      0.88      0.87       120\n",
      "\n"
     ]
    }
   ],
   "source": [
    "from sklearn.metrics import classification_report, confusion_matrix\n",
    "print(confusion_matrix(y_test,y_pred))\n",
    "print(classification_report(y_test,y_pred))"
   ]
  },
  {
   "cell_type": "code",
   "execution_count": null,
   "metadata": {},
   "outputs": [],
   "source": []
  }
 ],
 "metadata": {
  "kernelspec": {
   "display_name": "Python 3",
   "language": "python",
   "name": "python3"
  },
  "language_info": {
   "codemirror_mode": {
    "name": "ipython",
    "version": 3
   },
   "file_extension": ".py",
   "mimetype": "text/x-python",
   "name": "python",
   "nbconvert_exporter": "python",
   "pygments_lexer": "ipython3",
   "version": "3.7.2"
  }
 },
 "nbformat": 4,
 "nbformat_minor": 2
}
